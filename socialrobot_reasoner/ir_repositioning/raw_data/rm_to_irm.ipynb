{
 "cells": [
  {
   "cell_type": "code",
   "execution_count": 1,
   "metadata": {},
   "outputs": [],
   "source": [
    "%matplotlib widget\n",
    "\n",
    "import numpy as np"
   ]
  },
  {
   "cell_type": "code",
   "execution_count": 2,
   "metadata": {},
   "outputs": [],
   "source": [
    "from colour import Color\n",
    "import matplotlib.pyplot as plt\n",
    "\n",
    "\n",
    "class ColorGradient:\n",
    "    def __init__(self, resolution=100):\n",
    "        low_color = Color(\"red\")\n",
    "        high_color = Color(\"blue\")\n",
    "        \n",
    "        self.size = resolution\n",
    "        self.colors = list(low_color.range_to(high_color, self.size))\n",
    "    \n",
    "    def get(self, value):\n",
    "        \"\"\"value: 0.0 ~ 1.0\"\"\"\n",
    "        i = int(value * self.size)\n",
    "        if i >= self.size:\n",
    "            i = self.size - 1\n",
    "        r, g, b = self.colors[i].rgb\n",
    "        return (r, g, b, 1.0)\n",
    "\n",
    "def scale_remapping(value, max_value, min_value, max_target, min_target):\n",
    "    gain = (value - min_value) / (max_value - min_value)\n",
    "    return min_target + gain * (max_target - min_target)\n",
    "\n",
    "def filtering(raw):\n",
    "    return raw[:,[IDX_Y, IDX_TCP_X, IDX_TCP_Y, IDX_M]]\n",
    "\n",
    "def scatter_2d(ax, raw, xyMinMax, is_irm=True, dot_size=1, title=None):\n",
    "    \"\"\"\n",
    "    raw:\n",
    "        [[Cr x y manip],\n",
    "         [Cr x y manip], ...]\n",
    "         deg m m -\n",
    "     \n",
    "    Example:\n",
    "        fig, (ax1, ax2) = plt.subplots(nrows=1, ncols=2)\n",
    "        xyminmax = [-0.8, 0.8, -0.8, 0.8]\n",
    "        scatter_2d(ax1, filtering(rm), xyminmax, is_irm=False)\n",
    "        scatter_2d(ax2, filtering(irm), xyminmax)\n",
    "        fig.tight_layout()\n",
    "        plt.show()\n",
    "    \"\"\"\n",
    "    Crs, xs, ys, ms = np.transpose(raw)\n",
    "    max_manip = np.max(ms)\n",
    "    min_manip = np.min(ms)\n",
    "    grad = ColorGradient()\n",
    "    colors = np.array(\n",
    "        [grad.get(scale_remapping(m, max_manip, min_manip, 1, 0)) for m in ms]\n",
    "    )\n",
    "    \n",
    "    ax.scatter(xs, ys, c=colors, s=dot_size)\n",
    "    \n",
    "    title = title if title else (\"IRM\" if is_irm else \"RM\")\n",
    "    min_Cr = np.max(Crs)\n",
    "    max_Cr = np.min(Crs)\n",
    "    ax.set_title(\"%s ($C_{r}$ range: %.1f~%.1f deg)\" % (title, min_Cr, max_Cr))\n",
    "    ax.set_xlabel(\"x(m)\", fontsize=15)\n",
    "    ax.set_ylabel(\"y(m)\", fontsize=15)\n",
    "    ax.axis(xyMinMax)\n",
    "    ax.grid(True)\n",
    "\n",
    "    # robot and object\n",
    "    if is_irm:  # object\n",
    "        marker_x = [1.0, -0.5, -0.5, -0.5]\n",
    "        marker_y = [0.0, 0.0, -0.5, 0.5]\n",
    "    else:  # robot\n",
    "        marker_x = [1.0, -0.5, -0.5, 1.0]\n",
    "        marker_y = [0.0, 0.5, -0.5, 0.0]\n",
    "    arrow_size = max(xyMinMax) * 0.1\n",
    "    arrow_x = np.array(marker_x) * arrow_size\n",
    "    arrow_y = np.array(marker_y) * arrow_size\n",
    "    ax.plot(arrow_x, arrow_y)\n",
    "\n",
    "def scatter_3d(ax, raw, xyMinMax, is_irm=True, dot_size=2, title=None):\n",
    "    \"\"\"\n",
    "    raw:\n",
    "        [[Cr x y manip],\n",
    "         [Cr x y manip], ...]\n",
    "         deg m m -\n",
    "     \n",
    "    Example:\n",
    "        fig = plt.figure()\n",
    "        ax1 = fig.add_subplot(121, projection='3d')\n",
    "        ax2 = fig.add_subplot(122, projection='3d')\n",
    "        xyminmax = [-0.8, 0.8, -0.8, 0.8]\n",
    "        scatter_3d(ax1, filtering(rm), xyminmax, is_irm=False)\n",
    "        scatter_3d(ax2, filtering(irm), xyminmax)\n",
    "        plt.show()\n",
    "    \"\"\"\n",
    "    Crs, xs, ys, ms = np.transpose(raw)\n",
    "    max_manip = np.max(ms)\n",
    "    min_manip = np.min(ms)\n",
    "    grad = ColorGradient()\n",
    "    colors = np.array(\n",
    "        [grad.get(scale_remapping(m, max_manip, min_manip, 1, 0)) for m in ms]\n",
    "    )\n",
    "    \n",
    "    ax.scatter(xs, ys, zs=Crs, c=colors, s=dot_size)\n",
    "    ax.set_xlabel(\"x(m)\", fontsize=15)\n",
    "    ax.set_ylabel(\"y(m)\", fontsize=15)\n",
    "    ax.set_zlabel(\"$C_{r}$(deg)\", fontsize=15)\n",
    "    ax.axis(xyMinMax)\n",
    "    \n",
    "    title = title if title else (\"IRM\" if is_irm else \"RM\")\n",
    "    min_Cr = np.max(Crs)\n",
    "    max_Cr = np.min(Crs)\n",
    "    ax.set_title(\"%s ($C_{r}$ range: %.1f~%.1f deg)\" % (title, min_Cr, max_Cr))\n",
    "\n",
    "    # robot and object\n",
    "    if is_irm:  # object\n",
    "        marker_x = [1.0, -0.5, -0.5, -0.5]\n",
    "        marker_y = [0.0, 0.0, -0.5, 0.5]\n",
    "    else:  # robot\n",
    "        marker_x = [1.0, -0.5, -0.5, 1.0]\n",
    "        marker_y = [0.0, 0.5, -0.5, 0.0]\n",
    "    arrow_size = max(xyMinMax) * 0.1\n",
    "    arrow_x = np.array(marker_x) * arrow_size\n",
    "    arrow_y = np.array(marker_y) * arrow_size\n",
    "    \n",
    "    int_Crs = set(np.array(Crs, dtype=int))\n",
    "    for c in int_Crs:\n",
    "        arrow_z = np.array([c, c, c, c])\n",
    "        ax.plot(arrow_x, arrow_y, arrow_z)"
   ]
  },
  {
   "cell_type": "markdown",
   "metadata": {},
   "source": [
    "CSV to NPY\n",
    "\n",
    "```py\n",
    "import csv\n",
    "\n",
    "raw_file = \"robocare_right_reachability_map.csv\"\n",
    "first_row_is_title = True\n",
    "is_rpy_order = False\n",
    "\n",
    "raw = []\n",
    "with open(raw_file, 'r', encoding='utf-8') as csvfile:\n",
    "    reader = csv.reader(csvfile, delimiter=',')\n",
    "    raw = [row for row in reader]\n",
    "    if first_row_is_title:\n",
    "        raw = raw[1:]\n",
    "\n",
    "npraw = np.array(raw, dtype=np.float)\n",
    "# Cr,pitch,roll -> roll,pitch,Cr\n",
    "npraw[:,[6, 7, 8]] = npraw[:,[8, 7, 6]]\n",
    "\n",
    "print(npraw.shape)\n",
    "```"
   ]
  },
  {
   "cell_type": "markdown",
   "metadata": {},
   "source": [
    "# RM to IRM\n",
    "\n",
    "Transform the reachability map(RM) to the inverse RM. Each data point will be rotated by Cr about the Z-axis.\n",
    "\n",
    "**Table of Contents**\n",
    "1. Load data\n",
    "2. RM to IRM\n",
    "3. Check with plots\n",
    "4. Save IRM"
   ]
  },
  {
   "cell_type": "markdown",
   "metadata": {},
   "source": [
    "### 1. Load data\n",
    "\n",
    "| Column Index | Name              | Unit       | Remark |\n",
    "| ----- | ----------------- | ---------- | ------ |\n",
    "| 0     | TCP x             | meter      |        |\n",
    "| 1     | TCP y             | meter      | L!=R   |\n",
    "| 2     | TCP z             | meter      |        |\n",
    "| 3     | EEP x             | meter      |        |\n",
    "| 4     | EEP y             | meter      | L!=R   |\n",
    "| 5     | EEP z             | meter      |        |\n",
    "| 6     | EE Roll           | **DEGREE** |        |\n",
    "| 7     | EE Pitch          | **DEGREE** |        |\n",
    "| 8     | EE Yaw: Cr        | **DEGREE** | L!=R   |\n",
    "| 9     | Manipulability    | -          |        |\n",
    "| 10    | Joint_0: Waist_Roll      | radian     | L!=R   |\n",
    "| 11    | Joint_1: Waist_Pitch     | radian     |        |\n",
    "| 12    | Joint_2: RShoulder_Pitch | radian     |        |\n",
    "| 13    | Joint_3: RShoulder_Roll  | radian     | L!=R   |\n",
    "| 14    | Joint_4: RElbow_Pitch    | radian     |        |\n",
    "| 15    | Joint_5: RElbow_Yaw      | radian     | L!=R   |\n",
    "| 16    | Joint_6: RWrist_Pitch    | radian     |        |\n",
    "| 17    | Joint_7: RWrist_Roll     | radian     | L!=R   |\n",
    "\n",
    "\"robocare_right_reachability_map.npy\" has 18 columns. (Index 17 is \"Joint_7\".)"
   ]
  },
  {
   "cell_type": "code",
   "execution_count": 3,
   "metadata": {},
   "outputs": [
    {
     "name": "stdout",
     "output_type": "stream",
     "text": [
      "(7899, 18)\n",
      "[[ 3.09000000e-01 -3.00000000e-01  7.50000000e-01  2.54500000e-01\n",
      "  -2.05603231e-01  7.50000000e-01 -9.00000000e+01  9.00000000e+01\n",
      "  -6.00000000e+01  6.91546727e-02  1.74748106e-01  5.57035564e-02\n",
      "  -6.02742351e-01  1.69368734e+00 -3.40948307e-01  1.00480959e+00\n",
      "  -2.66947978e+00  8.27935653e-01]\n",
      " [ 3.09000000e-01 -3.00000000e-01  7.50000000e-01  2.31925361e-01\n",
      "  -2.22925361e-01  7.50000000e-01 -9.00000000e+01  9.00000000e+01\n",
      "  -4.50000000e+01  7.27504883e-02  1.87529373e-01  1.78257134e-01\n",
      "  -5.62624539e-01  1.62103342e+00 -3.31866428e-01  9.11472259e-01\n",
      "  -2.70099780e+00  5.52215287e-01]]\n"
     ]
    }
   ],
   "source": [
    "IDX_TCP_X = 0\n",
    "IDX_TCP_Y = 1\n",
    "IDX_TCP_Z = 2\n",
    "IDX_EEP_X = 3\n",
    "IDX_EEP_Y = 4\n",
    "IDX_EEP_Z = 5\n",
    "IDX_R = 6\n",
    "IDX_P = 7\n",
    "IDX_Y = 8\n",
    "IDX_M = 9\n",
    "\n",
    "right_rm = np.load('robocare_right_reachability_map.npy')\n",
    "print(right_rm.shape)\n",
    "print(right_rm[:2])"
   ]
  },
  {
   "cell_type": "markdown",
   "metadata": {},
   "source": [
    "### Right to Left"
   ]
  },
  {
   "cell_type": "code",
   "execution_count": 5,
   "metadata": {},
   "outputs": [
    {
     "name": "stdout",
     "output_type": "stream",
     "text": [
      "[ 3.09000000e-01 -3.00000000e-01  7.50000000e-01  2.54500000e-01\n",
      " -2.05603231e-01  7.50000000e-01 -9.00000000e+01  9.00000000e+01\n",
      " -6.00000000e+01  6.91546727e-02  1.74748106e-01  5.57035564e-02\n",
      " -6.02742351e-01  1.69368734e+00 -3.40948307e-01  1.00480959e+00\n",
      " -2.66947978e+00  8.27935653e-01]\n",
      "[ 3.09000000e-01  3.00000000e-01  7.50000000e-01  2.54500000e-01\n",
      "  2.05603231e-01  7.50000000e-01 -9.00000000e+01  9.00000000e+01\n",
      "  6.00000000e+01  6.91546727e-02 -1.74748106e-01  5.57035564e-02\n",
      " -6.02742351e-01 -1.69368734e+00 -3.40948307e-01 -1.00480959e+00\n",
      " -2.66947978e+00 -8.27935653e-01]\n"
     ]
    },
    {
     "data": {
      "application/vnd.jupyter.widget-view+json": {
       "model_id": "453c876bddaf457c93da3149d3b4006d",
       "version_major": 2,
       "version_minor": 0
      },
      "text/plain": [
       "Canvas(toolbar=Toolbar(toolitems=[('Home', 'Reset original view', 'home', 'home'), ('Back', 'Back to previous …"
      ]
     },
     "metadata": {},
     "output_type": "display_data"
    }
   ],
   "source": [
    "import copy\n",
    "\n",
    "IDX_Waist_Roll = 10\n",
    "IDX_RShoulder_Roll = 13\n",
    "IDX_RElbow_Yaw = 15\n",
    "IDX_RWrist_Roll = 17\n",
    "\n",
    "mirrors = [\n",
    "    IDX_TCP_Y,\n",
    "    IDX_EEP_Y,\n",
    "    IDX_Y,\n",
    "    IDX_Waist_Roll,\n",
    "    IDX_RShoulder_Roll,\n",
    "    IDX_RElbow_Yaw,\n",
    "    IDX_RWrist_Roll\n",
    "]\n",
    "\n",
    "left_rm = copy.deepcopy(right_rm)\n",
    "left_rm[:, mirrors] *= -1.0\n",
    "print(right_rm[0])\n",
    "print(left_rm[0])\n",
    "\n",
    "# show\n",
    "fig, (ax1, ax2) = plt.subplots(nrows=1, ncols=2)\n",
    "xyminmax = [-0.8, 0.8, -0.8, 0.8]\n",
    "scatter_2d(ax1, filtering(left_rm), xyminmax, is_irm=False, title=\"left rm\")\n",
    "scatter_2d(ax2, filtering(right_rm), xyminmax, is_irm=False, title=\"right rm\")\n",
    "fig.tight_layout()\n",
    "plt.show()"
   ]
  },
  {
   "cell_type": "markdown",
   "metadata": {},
   "source": [
    "## 2. RM to IRM\n",
    "\n",
    "Linear Transformation (only rotation)"
   ]
  },
  {
   "cell_type": "code",
   "execution_count": 6,
   "metadata": {},
   "outputs": [
    {
     "data": {
      "text/plain": [
       "(7899, 18)"
      ]
     },
     "execution_count": 6,
     "metadata": {},
     "output_type": "execute_result"
    }
   ],
   "source": [
    "rm = left_rm\n",
    "rm.shape"
   ]
  },
  {
   "cell_type": "code",
   "execution_count": 7,
   "metadata": {},
   "outputs": [
    {
     "name": "stdout",
     "output_type": "stream",
     "text": [
      "(7899, 18)\n",
      "[[-4.14307621e-01  1.17601850e-01  7.50000000e-01  2.54500000e-01\n",
      "   2.05603231e-01  7.50000000e-01 -9.00000000e+01  9.00000000e+01\n",
      "   6.00000000e+01  6.91546727e-02 -1.74748106e-01  5.57035564e-02\n",
      "  -6.02742351e-01 -1.69368734e+00 -3.40948307e-01 -1.00480959e+00\n",
      "  -2.66947978e+00 -8.27935653e-01]\n",
      " [-4.30628030e-01  6.36396103e-03  7.50000000e-01  2.31925361e-01\n",
      "   2.22925361e-01  7.50000000e-01 -9.00000000e+01  9.00000000e+01\n",
      "   4.50000000e+01  7.27504883e-02 -1.87529373e-01  1.78257134e-01\n",
      "  -5.62624539e-01 -1.62103342e+00 -3.31866428e-01 -9.11472259e-01\n",
      "  -2.70099780e+00 -5.52215287e-01]]\n"
     ]
    }
   ],
   "source": [
    "import copy\n",
    "\n",
    "def rotation_2d_about_z(rad):\n",
    "    c, s = np.cos(rad), np.sin(rad)\n",
    "    R = np.array((\n",
    "        (c, -s),\n",
    "        (s, c)\n",
    "    ))\n",
    "    return R\n",
    "\n",
    "def rm_to_irm(rm):\n",
    "    irm = copy.deepcopy(rm)\n",
    "    for row in irm:\n",
    "        Cr = row[IDX_Y]  # Degree\n",
    "        R = rotation_2d_about_z(np.radians(180. - Cr))\n",
    "        \n",
    "        row[IDX_TCP_X:IDX_TCP_Z] = np.dot(R, row[IDX_TCP_X:IDX_TCP_Z])\n",
    "    return irm\n",
    "        \n",
    "irm = rm_to_irm(rm)\n",
    "print(irm.shape)\n",
    "print(irm[:2])"
   ]
  },
  {
   "cell_type": "markdown",
   "metadata": {},
   "source": [
    "## 3. Check\n",
    "\n",
    "### 2D & 3D Plot"
   ]
  },
  {
   "cell_type": "code",
   "execution_count": 8,
   "metadata": {},
   "outputs": [
    {
     "data": {
      "application/vnd.jupyter.widget-view+json": {
       "model_id": "4ce83f2a169241d181c6ceea01969c64",
       "version_major": 2,
       "version_minor": 0
      },
      "text/plain": [
       "Canvas(toolbar=Toolbar(toolitems=[('Home', 'Reset original view', 'home', 'home'), ('Back', 'Back to previous …"
      ]
     },
     "metadata": {},
     "output_type": "display_data"
    }
   ],
   "source": [
    "fig, (ax1, ax2) = plt.subplots(nrows=1, ncols=2)\n",
    "xyminmax = [-0.8, 0.8, -0.8, 0.8]\n",
    "scatter_2d(ax1, filtering(rm), xyminmax, is_irm=False)\n",
    "scatter_2d(ax2, filtering(irm), xyminmax)\n",
    "fig.tight_layout()\n",
    "plt.show()"
   ]
  },
  {
   "cell_type": "code",
   "execution_count": 9,
   "metadata": {},
   "outputs": [
    {
     "data": {
      "application/vnd.jupyter.widget-view+json": {
       "model_id": "1bfa86a359a245bdaf694fcb86cf1593",
       "version_major": 2,
       "version_minor": 0
      },
      "text/plain": [
       "Canvas(toolbar=Toolbar(toolitems=[('Home', 'Reset original view', 'home', 'home'), ('Back', 'Back to previous …"
      ]
     },
     "metadata": {},
     "output_type": "display_data"
    }
   ],
   "source": [
    "fig = plt.figure()\n",
    "ax1 = fig.add_subplot(121, projection='3d')\n",
    "ax2 = fig.add_subplot(122, projection='3d')\n",
    "xyminmax = [-0.8, 0.8, -0.8, 0.8]\n",
    "scatter_3d(ax1, filtering(rm), xyminmax, is_irm=False)\n",
    "scatter_3d(ax2, filtering(irm), xyminmax)\n",
    "plt.show()"
   ]
  },
  {
   "cell_type": "markdown",
   "metadata": {},
   "source": [
    "### 4. Save IRM"
   ]
  },
  {
   "cell_type": "code",
   "execution_count": 10,
   "metadata": {},
   "outputs": [],
   "source": [
    "npy_name = \"../config/robocare_left_irm.npy\"\n",
    "np.save(npy_name, irm)"
   ]
  },
  {
   "cell_type": "code",
   "execution_count": null,
   "metadata": {},
   "outputs": [],
   "source": []
  }
 ],
 "metadata": {
  "interpreter": {
   "hash": "767d51c1340bd893661ea55ea3124f6de3c7a262a8b4abca0554b478b1e2ff90"
  },
  "kernelspec": {
   "display_name": "Python 3",
   "language": "python",
   "name": "python3"
  },
  "language_info": {
   "codemirror_mode": {
    "name": "ipython",
    "version": 3
   },
   "file_extension": ".py",
   "mimetype": "text/x-python",
   "name": "python",
   "nbconvert_exporter": "python",
   "pygments_lexer": "ipython3",
   "version": "3.6.9"
  }
 },
 "nbformat": 4,
 "nbformat_minor": 4
}
